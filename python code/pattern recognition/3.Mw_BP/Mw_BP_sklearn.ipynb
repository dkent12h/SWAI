{
  "cells": [
    {
      "cell_type": "markdown",
      "metadata": {
        "id": "view-in-github",
        "colab_type": "text"
      },
      "source": [
        "<a href=\"https://colab.research.google.com/github/PILKWANG/Arduino/blob/master/python%20code/pattern%20recognition/3.Mw_BP/Mw_BP_sklearn.ipynb\" target=\"_parent\"><img src=\"https://colab.research.google.com/assets/colab-badge.svg\" alt=\"Open In Colab\"/></a>"
      ]
    },
    {
      "cell_type": "markdown",
      "source": [
        ""
      ],
      "metadata": {
        "id": "JkxQpu-0coeV"
      }
    },
    {
      "cell_type": "markdown",
      "source": [
        ""
      ],
      "metadata": {
        "id": "lU32Rk8WcoQS"
      }
    },
    {
      "cell_type": "markdown",
      "source": [
        "#인공지능과 과학교육(회귀분석)"
      ],
      "metadata": {
        "id": "pl0UN1Cd2GiE"
      }
    },
    {
      "cell_type": "code",
      "execution_count": null,
      "metadata": {
        "id": "i2vYse-QoOBK"
      },
      "outputs": [],
      "source": [
        "import pandas as pd\n",
        "import numpy as np\n",
        "import matplotlib.pyplot as plt"
      ]
    },
    {
      "cell_type": "markdown",
      "metadata": {
        "id": "oPdYRkF1oOBL"
      },
      "source": [
        "# <Step1. 탐색> 분자량, 끓는점 데이터 살펴보기"
      ]
    },
    {
      "cell_type": "markdown",
      "metadata": {
        "id": "AXlfW-e6oOBM"
      },
      "source": [
        "### [분자량, 끓는점 데이터셋의 기본 정보]"
      ]
    },
    {
      "cell_type": "code",
      "execution_count": null,
      "metadata": {
        "colab": {
          "base_uri": "https://localhost:8080/",
          "height": 424
        },
        "id": "h5rlqPUGoOBM",
        "outputId": "b31f1654-e6fc-4549-d297-a808404825c9"
      },
      "outputs": [
        {
          "output_type": "execute_result",
          "data": {
            "text/plain": [
              "                             name  molweight  boiling point (K)     type\n",
              "0               (-)-b-citronellol  156.26820             498.65  alcohol\n",
              "1          (1R,2S,5R)-(-)-menthol  156.26820             489.55  alcohol\n",
              "2                (<+->)-2-butanol   74.12280             372.00  alcohol\n",
              "3           (R)-(+)-b-citronellol  156.26820             480.78  alcohol\n",
              "4      (R)-(-)-1-amino-2-propanol   75.11060             433.15  alcohol\n",
              "..                            ...        ...                ...      ...\n",
              "195             2,4-diethylphenol  150.22056             501.15  alcohol\n",
              "196        2,4-dimethyl-1-hexanol  130.23032             448.15  alcohol\n",
              "197       2,4-dimethyl-1-pentanol  116.20344             432.15  alcohol\n",
              "198  2,4-dimethyl-2,3-pentanediol  132.20284             459.15  alcohol\n",
              "199  2,4-dimethyl-2,4-pentanediol  132.20284             470.00  alcohol\n",
              "\n",
              "[200 rows x 4 columns]"
            ],
            "text/html": [
              "\n",
              "  <div id=\"df-107ab360-3295-42f3-b49c-15e01dc355ab\">\n",
              "    <div class=\"colab-df-container\">\n",
              "      <div>\n",
              "<style scoped>\n",
              "    .dataframe tbody tr th:only-of-type {\n",
              "        vertical-align: middle;\n",
              "    }\n",
              "\n",
              "    .dataframe tbody tr th {\n",
              "        vertical-align: top;\n",
              "    }\n",
              "\n",
              "    .dataframe thead th {\n",
              "        text-align: right;\n",
              "    }\n",
              "</style>\n",
              "<table border=\"1\" class=\"dataframe\">\n",
              "  <thead>\n",
              "    <tr style=\"text-align: right;\">\n",
              "      <th></th>\n",
              "      <th>name</th>\n",
              "      <th>molweight</th>\n",
              "      <th>boiling point (K)</th>\n",
              "      <th>type</th>\n",
              "    </tr>\n",
              "  </thead>\n",
              "  <tbody>\n",
              "    <tr>\n",
              "      <th>0</th>\n",
              "      <td>(-)-b-citronellol</td>\n",
              "      <td>156.26820</td>\n",
              "      <td>498.65</td>\n",
              "      <td>alcohol</td>\n",
              "    </tr>\n",
              "    <tr>\n",
              "      <th>1</th>\n",
              "      <td>(1R,2S,5R)-(-)-menthol</td>\n",
              "      <td>156.26820</td>\n",
              "      <td>489.55</td>\n",
              "      <td>alcohol</td>\n",
              "    </tr>\n",
              "    <tr>\n",
              "      <th>2</th>\n",
              "      <td>(&lt;+-&gt;)-2-butanol</td>\n",
              "      <td>74.12280</td>\n",
              "      <td>372.00</td>\n",
              "      <td>alcohol</td>\n",
              "    </tr>\n",
              "    <tr>\n",
              "      <th>3</th>\n",
              "      <td>(R)-(+)-b-citronellol</td>\n",
              "      <td>156.26820</td>\n",
              "      <td>480.78</td>\n",
              "      <td>alcohol</td>\n",
              "    </tr>\n",
              "    <tr>\n",
              "      <th>4</th>\n",
              "      <td>(R)-(-)-1-amino-2-propanol</td>\n",
              "      <td>75.11060</td>\n",
              "      <td>433.15</td>\n",
              "      <td>alcohol</td>\n",
              "    </tr>\n",
              "    <tr>\n",
              "      <th>...</th>\n",
              "      <td>...</td>\n",
              "      <td>...</td>\n",
              "      <td>...</td>\n",
              "      <td>...</td>\n",
              "    </tr>\n",
              "    <tr>\n",
              "      <th>195</th>\n",
              "      <td>2,4-diethylphenol</td>\n",
              "      <td>150.22056</td>\n",
              "      <td>501.15</td>\n",
              "      <td>alcohol</td>\n",
              "    </tr>\n",
              "    <tr>\n",
              "      <th>196</th>\n",
              "      <td>2,4-dimethyl-1-hexanol</td>\n",
              "      <td>130.23032</td>\n",
              "      <td>448.15</td>\n",
              "      <td>alcohol</td>\n",
              "    </tr>\n",
              "    <tr>\n",
              "      <th>197</th>\n",
              "      <td>2,4-dimethyl-1-pentanol</td>\n",
              "      <td>116.20344</td>\n",
              "      <td>432.15</td>\n",
              "      <td>alcohol</td>\n",
              "    </tr>\n",
              "    <tr>\n",
              "      <th>198</th>\n",
              "      <td>2,4-dimethyl-2,3-pentanediol</td>\n",
              "      <td>132.20284</td>\n",
              "      <td>459.15</td>\n",
              "      <td>alcohol</td>\n",
              "    </tr>\n",
              "    <tr>\n",
              "      <th>199</th>\n",
              "      <td>2,4-dimethyl-2,4-pentanediol</td>\n",
              "      <td>132.20284</td>\n",
              "      <td>470.00</td>\n",
              "      <td>alcohol</td>\n",
              "    </tr>\n",
              "  </tbody>\n",
              "</table>\n",
              "<p>200 rows × 4 columns</p>\n",
              "</div>\n",
              "      <button class=\"colab-df-convert\" onclick=\"convertToInteractive('df-107ab360-3295-42f3-b49c-15e01dc355ab')\"\n",
              "              title=\"Convert this dataframe to an interactive table.\"\n",
              "              style=\"display:none;\">\n",
              "        \n",
              "  <svg xmlns=\"http://www.w3.org/2000/svg\" height=\"24px\"viewBox=\"0 0 24 24\"\n",
              "       width=\"24px\">\n",
              "    <path d=\"M0 0h24v24H0V0z\" fill=\"none\"/>\n",
              "    <path d=\"M18.56 5.44l.94 2.06.94-2.06 2.06-.94-2.06-.94-.94-2.06-.94 2.06-2.06.94zm-11 1L8.5 8.5l.94-2.06 2.06-.94-2.06-.94L8.5 2.5l-.94 2.06-2.06.94zm10 10l.94 2.06.94-2.06 2.06-.94-2.06-.94-.94-2.06-.94 2.06-2.06.94z\"/><path d=\"M17.41 7.96l-1.37-1.37c-.4-.4-.92-.59-1.43-.59-.52 0-1.04.2-1.43.59L10.3 9.45l-7.72 7.72c-.78.78-.78 2.05 0 2.83L4 21.41c.39.39.9.59 1.41.59.51 0 1.02-.2 1.41-.59l7.78-7.78 2.81-2.81c.8-.78.8-2.07 0-2.86zM5.41 20L4 18.59l7.72-7.72 1.47 1.35L5.41 20z\"/>\n",
              "  </svg>\n",
              "      </button>\n",
              "      \n",
              "  <style>\n",
              "    .colab-df-container {\n",
              "      display:flex;\n",
              "      flex-wrap:wrap;\n",
              "      gap: 12px;\n",
              "    }\n",
              "\n",
              "    .colab-df-convert {\n",
              "      background-color: #E8F0FE;\n",
              "      border: none;\n",
              "      border-radius: 50%;\n",
              "      cursor: pointer;\n",
              "      display: none;\n",
              "      fill: #1967D2;\n",
              "      height: 32px;\n",
              "      padding: 0 0 0 0;\n",
              "      width: 32px;\n",
              "    }\n",
              "\n",
              "    .colab-df-convert:hover {\n",
              "      background-color: #E2EBFA;\n",
              "      box-shadow: 0px 1px 2px rgba(60, 64, 67, 0.3), 0px 1px 3px 1px rgba(60, 64, 67, 0.15);\n",
              "      fill: #174EA6;\n",
              "    }\n",
              "\n",
              "    [theme=dark] .colab-df-convert {\n",
              "      background-color: #3B4455;\n",
              "      fill: #D2E3FC;\n",
              "    }\n",
              "\n",
              "    [theme=dark] .colab-df-convert:hover {\n",
              "      background-color: #434B5C;\n",
              "      box-shadow: 0px 1px 3px 1px rgba(0, 0, 0, 0.15);\n",
              "      filter: drop-shadow(0px 1px 2px rgba(0, 0, 0, 0.3));\n",
              "      fill: #FFFFFF;\n",
              "    }\n",
              "  </style>\n",
              "\n",
              "      <script>\n",
              "        const buttonEl =\n",
              "          document.querySelector('#df-107ab360-3295-42f3-b49c-15e01dc355ab button.colab-df-convert');\n",
              "        buttonEl.style.display =\n",
              "          google.colab.kernel.accessAllowed ? 'block' : 'none';\n",
              "\n",
              "        async function convertToInteractive(key) {\n",
              "          const element = document.querySelector('#df-107ab360-3295-42f3-b49c-15e01dc355ab');\n",
              "          const dataTable =\n",
              "            await google.colab.kernel.invokeFunction('convertToInteractive',\n",
              "                                                     [key], {});\n",
              "          if (!dataTable) return;\n",
              "\n",
              "          const docLinkHtml = 'Like what you see? Visit the ' +\n",
              "            '<a target=\"_blank\" href=https://colab.research.google.com/notebooks/data_table.ipynb>data table notebook</a>'\n",
              "            + ' to learn more about interactive tables.';\n",
              "          element.innerHTML = '';\n",
              "          dataTable['output_type'] = 'display_data';\n",
              "          await google.colab.output.renderOutput(dataTable, element);\n",
              "          const docLink = document.createElement('div');\n",
              "          docLink.innerHTML = docLinkHtml;\n",
              "          element.appendChild(docLink);\n",
              "        }\n",
              "      </script>\n",
              "    </div>\n",
              "  </div>\n",
              "  "
            ]
          },
          "metadata": {},
          "execution_count": 39
        }
      ],
      "source": [
        "BP_file_path = 'sample_data/BoilingPoint_Mw_alcohol(200).csv'\n",
        "BP_skl = pd.read_csv(BP_file_path)\n",
        "BP_skl.dropna()"
      ]
    },
    {
      "cell_type": "code",
      "execution_count": null,
      "metadata": {
        "colab": {
          "base_uri": "https://localhost:8080/"
        },
        "id": "rJN0GM6WoOBO",
        "outputId": "8c3a7e97-f8d8-481d-c228-69a2444a2b11"
      },
      "outputs": [
        {
          "output_type": "execute_result",
          "data": {
            "text/plain": [
              "Index(['name', 'molweight', 'boiling point (K)', 'type'], dtype='object')"
            ]
          },
          "metadata": {},
          "execution_count": 40
        }
      ],
      "source": [
        "BP_skl.columns"
      ]
    },
    {
      "cell_type": "code",
      "execution_count": null,
      "metadata": {
        "colab": {
          "base_uri": "https://localhost:8080/",
          "height": 206
        },
        "id": "xfCpKNb8oOBO",
        "outputId": "4275d55c-abb7-43c2-e6f3-4eec3827ff7d"
      },
      "outputs": [
        {
          "output_type": "execute_result",
          "data": {
            "text/plain": [
              "                         name  molweight  boiling point (K)     type\n",
              "0           (-)-b-citronellol   156.2682             498.65  alcohol\n",
              "1      (1R,2S,5R)-(-)-menthol   156.2682             489.55  alcohol\n",
              "2            (<+->)-2-butanol    74.1228             372.00  alcohol\n",
              "3       (R)-(+)-b-citronellol   156.2682             480.78  alcohol\n",
              "4  (R)-(-)-1-amino-2-propanol    75.1106             433.15  alcohol"
            ],
            "text/html": [
              "\n",
              "  <div id=\"df-93fef6d3-a76b-4099-b290-f2f7a37bbde5\">\n",
              "    <div class=\"colab-df-container\">\n",
              "      <div>\n",
              "<style scoped>\n",
              "    .dataframe tbody tr th:only-of-type {\n",
              "        vertical-align: middle;\n",
              "    }\n",
              "\n",
              "    .dataframe tbody tr th {\n",
              "        vertical-align: top;\n",
              "    }\n",
              "\n",
              "    .dataframe thead th {\n",
              "        text-align: right;\n",
              "    }\n",
              "</style>\n",
              "<table border=\"1\" class=\"dataframe\">\n",
              "  <thead>\n",
              "    <tr style=\"text-align: right;\">\n",
              "      <th></th>\n",
              "      <th>name</th>\n",
              "      <th>molweight</th>\n",
              "      <th>boiling point (K)</th>\n",
              "      <th>type</th>\n",
              "    </tr>\n",
              "  </thead>\n",
              "  <tbody>\n",
              "    <tr>\n",
              "      <th>0</th>\n",
              "      <td>(-)-b-citronellol</td>\n",
              "      <td>156.2682</td>\n",
              "      <td>498.65</td>\n",
              "      <td>alcohol</td>\n",
              "    </tr>\n",
              "    <tr>\n",
              "      <th>1</th>\n",
              "      <td>(1R,2S,5R)-(-)-menthol</td>\n",
              "      <td>156.2682</td>\n",
              "      <td>489.55</td>\n",
              "      <td>alcohol</td>\n",
              "    </tr>\n",
              "    <tr>\n",
              "      <th>2</th>\n",
              "      <td>(&lt;+-&gt;)-2-butanol</td>\n",
              "      <td>74.1228</td>\n",
              "      <td>372.00</td>\n",
              "      <td>alcohol</td>\n",
              "    </tr>\n",
              "    <tr>\n",
              "      <th>3</th>\n",
              "      <td>(R)-(+)-b-citronellol</td>\n",
              "      <td>156.2682</td>\n",
              "      <td>480.78</td>\n",
              "      <td>alcohol</td>\n",
              "    </tr>\n",
              "    <tr>\n",
              "      <th>4</th>\n",
              "      <td>(R)-(-)-1-amino-2-propanol</td>\n",
              "      <td>75.1106</td>\n",
              "      <td>433.15</td>\n",
              "      <td>alcohol</td>\n",
              "    </tr>\n",
              "  </tbody>\n",
              "</table>\n",
              "</div>\n",
              "      <button class=\"colab-df-convert\" onclick=\"convertToInteractive('df-93fef6d3-a76b-4099-b290-f2f7a37bbde5')\"\n",
              "              title=\"Convert this dataframe to an interactive table.\"\n",
              "              style=\"display:none;\">\n",
              "        \n",
              "  <svg xmlns=\"http://www.w3.org/2000/svg\" height=\"24px\"viewBox=\"0 0 24 24\"\n",
              "       width=\"24px\">\n",
              "    <path d=\"M0 0h24v24H0V0z\" fill=\"none\"/>\n",
              "    <path d=\"M18.56 5.44l.94 2.06.94-2.06 2.06-.94-2.06-.94-.94-2.06-.94 2.06-2.06.94zm-11 1L8.5 8.5l.94-2.06 2.06-.94-2.06-.94L8.5 2.5l-.94 2.06-2.06.94zm10 10l.94 2.06.94-2.06 2.06-.94-2.06-.94-.94-2.06-.94 2.06-2.06.94z\"/><path d=\"M17.41 7.96l-1.37-1.37c-.4-.4-.92-.59-1.43-.59-.52 0-1.04.2-1.43.59L10.3 9.45l-7.72 7.72c-.78.78-.78 2.05 0 2.83L4 21.41c.39.39.9.59 1.41.59.51 0 1.02-.2 1.41-.59l7.78-7.78 2.81-2.81c.8-.78.8-2.07 0-2.86zM5.41 20L4 18.59l7.72-7.72 1.47 1.35L5.41 20z\"/>\n",
              "  </svg>\n",
              "      </button>\n",
              "      \n",
              "  <style>\n",
              "    .colab-df-container {\n",
              "      display:flex;\n",
              "      flex-wrap:wrap;\n",
              "      gap: 12px;\n",
              "    }\n",
              "\n",
              "    .colab-df-convert {\n",
              "      background-color: #E8F0FE;\n",
              "      border: none;\n",
              "      border-radius: 50%;\n",
              "      cursor: pointer;\n",
              "      display: none;\n",
              "      fill: #1967D2;\n",
              "      height: 32px;\n",
              "      padding: 0 0 0 0;\n",
              "      width: 32px;\n",
              "    }\n",
              "\n",
              "    .colab-df-convert:hover {\n",
              "      background-color: #E2EBFA;\n",
              "      box-shadow: 0px 1px 2px rgba(60, 64, 67, 0.3), 0px 1px 3px 1px rgba(60, 64, 67, 0.15);\n",
              "      fill: #174EA6;\n",
              "    }\n",
              "\n",
              "    [theme=dark] .colab-df-convert {\n",
              "      background-color: #3B4455;\n",
              "      fill: #D2E3FC;\n",
              "    }\n",
              "\n",
              "    [theme=dark] .colab-df-convert:hover {\n",
              "      background-color: #434B5C;\n",
              "      box-shadow: 0px 1px 3px 1px rgba(0, 0, 0, 0.15);\n",
              "      filter: drop-shadow(0px 1px 2px rgba(0, 0, 0, 0.3));\n",
              "      fill: #FFFFFF;\n",
              "    }\n",
              "  </style>\n",
              "\n",
              "      <script>\n",
              "        const buttonEl =\n",
              "          document.querySelector('#df-93fef6d3-a76b-4099-b290-f2f7a37bbde5 button.colab-df-convert');\n",
              "        buttonEl.style.display =\n",
              "          google.colab.kernel.accessAllowed ? 'block' : 'none';\n",
              "\n",
              "        async function convertToInteractive(key) {\n",
              "          const element = document.querySelector('#df-93fef6d3-a76b-4099-b290-f2f7a37bbde5');\n",
              "          const dataTable =\n",
              "            await google.colab.kernel.invokeFunction('convertToInteractive',\n",
              "                                                     [key], {});\n",
              "          if (!dataTable) return;\n",
              "\n",
              "          const docLinkHtml = 'Like what you see? Visit the ' +\n",
              "            '<a target=\"_blank\" href=https://colab.research.google.com/notebooks/data_table.ipynb>data table notebook</a>'\n",
              "            + ' to learn more about interactive tables.';\n",
              "          element.innerHTML = '';\n",
              "          dataTable['output_type'] = 'display_data';\n",
              "          await google.colab.output.renderOutput(dataTable, element);\n",
              "          const docLink = document.createElement('div');\n",
              "          docLink.innerHTML = docLinkHtml;\n",
              "          element.appendChild(docLink);\n",
              "        }\n",
              "      </script>\n",
              "    </div>\n",
              "  </div>\n",
              "  "
            ]
          },
          "metadata": {},
          "execution_count": 41
        }
      ],
      "source": [
        "BP_skl.head()"
      ]
    },
    {
      "cell_type": "code",
      "execution_count": null,
      "metadata": {
        "colab": {
          "base_uri": "https://localhost:8080/"
        },
        "id": "G1QP91GjoOBP",
        "outputId": "7b733ce1-3a65-4a5c-b7da-7448546bf532"
      },
      "outputs": [
        {
          "output_type": "stream",
          "name": "stdout",
          "text": [
            "(200, 4)\n"
          ]
        }
      ],
      "source": [
        "print(BP_skl.shape)"
      ]
    },
    {
      "cell_type": "markdown",
      "metadata": {
        "id": "UJ_ebSSNoOBP"
      },
      "source": [
        "-----"
      ]
    },
    {
      "cell_type": "markdown",
      "metadata": {
        "id": "7xgUxozRoOBQ"
      },
      "source": [
        "### [회귀 분석에 사용할 피처 살펴보기]"
      ]
    },
    {
      "cell_type": "code",
      "execution_count": null,
      "metadata": {
        "id": "5BJvlvSzoOBQ"
      },
      "outputs": [],
      "source": [
        "BP_features_df = BP_skl[['molweight', 'boiling point (K)']]"
      ]
    },
    {
      "cell_type": "code",
      "execution_count": null,
      "metadata": {
        "id": "jy4c-dEXoOBQ"
      },
      "outputs": [],
      "source": [
        "# 피처 각각에 대한 scatter을 출력합니다.\n",
        "def plot_scatter_each_column(df):\n",
        "    plt.rcParams['figure.figsize'] = [20, 16]\n",
        "    fig = plt.figure(1)\n",
        "         \n",
        "    plt.scatter(df[df.columns[0]], df[df.columns[1]], color='r')\n",
        "    plt.xlabel('Mw')\n",
        "    plt.ylabel('BP')\n",
        "    plt.show()"
      ]
    },
    {
      "cell_type": "code",
      "execution_count": null,
      "metadata": {
        "colab": {
          "base_uri": "https://localhost:8080/",
          "height": 888
        },
        "id": "FCMjDQZjoOBR",
        "outputId": "1db36190-8024-4486-af0b-4df8d1aa016e"
      },
      "outputs": [
        {
          "output_type": "display_data",
          "data": {
            "text/plain": [
              "<Figure size 1440x1152 with 1 Axes>"
            ],
            "image/png": "[encoded data removed]"
          },
          "metadata": {
            "needs_background": "light"
          }
        }
      ],
      "source": [
        "plot_scatter_each_column(BP_features_df)"
      ]
    },
    {
      "cell_type": "markdown",
      "metadata": {
        "id": "jqT2FcouoOBR"
      },
      "source": [
        "-----"
      ]
    },
    {
      "cell_type": "markdown",
      "metadata": {
        "id": "Bj3sVJOVoOBS"
      },
      "source": [
        "# <Step2. 예측> : 압력과 부피 관계 예측하기"
      ]
    },
    {
      "cell_type": "markdown",
      "metadata": {
        "id": "ds_WHnvqoOBS"
      },
      "source": [
        "### [회귀 분석 적용하기]"
      ]
    },
    {
      "cell_type": "markdown",
      "metadata": {
        "id": "DnWk8jPuoOBT"
      },
      "source": [
        "##### 회귀 분석을 위한 학습, 테스트 데이터셋 분리"
      ]
    },
    {
      "cell_type": "code",
      "execution_count": null,
      "metadata": {
        "id": "v_5dZxueoOBT"
      },
      "outputs": [],
      "source": [
        "from sklearn import linear_model\n",
        "from sklearn.metrics import mean_squared_error\n",
        "from math import sqrt\n",
        "\n",
        "# 학습 데이터 지정\n",
        "x_train = BP_skl[['molweight']]\n",
        "y_train = BP_skl[['boiling point (K)']]"
      ]
    },
    {
      "cell_type": "code",
      "execution_count": null,
      "metadata": {
        "colab": {
          "base_uri": "https://localhost:8080/"
        },
        "id": "hxqdqZ6HoOBU",
        "outputId": "803492fb-5d3a-4eec-9c3f-25aebd8653f5"
      },
      "outputs": [
        {
          "output_type": "stream",
          "name": "stdout",
          "text": [
            "   molweight\n",
            "0   156.2682\n",
            "1   156.2682\n",
            "2    74.1228\n",
            "3   156.2682\n",
            "4    75.1106\n"
          ]
        }
      ],
      "source": [
        "print(x_train.head())"
      ]
    },
    {
      "cell_type": "code",
      "execution_count": null,
      "metadata": {
        "colab": {
          "base_uri": "https://localhost:8080/"
        },
        "id": "Ug2wVdavoOBU",
        "outputId": "e48fbe0c-ce68-4a09-a225-2d99d0a71aba"
      },
      "outputs": [
        {
          "output_type": "stream",
          "name": "stdout",
          "text": [
            "   boiling point (K)\n",
            "0             498.65\n",
            "1             489.55\n",
            "2             372.00\n",
            "3             480.78\n",
            "4             433.15\n"
          ]
        }
      ],
      "source": [
        "print(y_train.head())"
      ]
    },
    {
      "cell_type": "markdown",
      "metadata": {
        "id": "2FKqhvxtoOBV"
      },
      "source": [
        "##### 회귀 분석 계수 학습 & 학습된 계수 출력"
      ]
    },
    {
      "cell_type": "code",
      "execution_count": null,
      "metadata": {
        "id": "c64FQTqloOBV"
      },
      "outputs": [],
      "source": [
        "# 회귀 분석 계수를 학습합니다 (회귀 모델 학습)\n",
        "lr = linear_model.LinearRegression()\n",
        "model = lr.fit(x_train, y_train)"
      ]
    },
    {
      "cell_type": "code",
      "execution_count": null,
      "metadata": {
        "colab": {
          "base_uri": "https://localhost:8080/"
        },
        "id": "U8IT34BooOBV",
        "outputId": "3ab751f5-698c-4e65-e447-465df9149717"
      },
      "outputs": [
        {
          "output_type": "stream",
          "name": "stdout",
          "text": [
            "[[1.1921057]] [301.75230787]\n",
            "[[838.19987295]]\n"
          ]
        },
        {
          "output_type": "stream",
          "name": "stderr",
          "text": [
            "/usr/local/lib/python3.7/dist-packages/sklearn/base.py:451: UserWarning: X does not have valid feature names, but LinearRegression was fitted with feature names\n",
            "  \"X does not have valid feature names, but\"\n"
          ]
        }
      ],
      "source": [
        "# 학습된 계수를 출력합니다.\n",
        "print(lr.coef_,lr.intercept_)\n",
        "BP = lr.predict([[450]])\n",
        "print(BP)"
      ]
    },
    {
      "cell_type": "code",
      "execution_count": null,
      "metadata": {
        "colab": {
          "base_uri": "https://localhost:8080/"
        },
        "id": "q8kXJDvmoOBW",
        "outputId": "1f4004bb-5959-45af-a8c5-3b3cae00ad07"
      },
      "outputs": [
        {
          "output_type": "stream",
          "name": "stdout",
          "text": [
            "y절편 : [301.75230787], 기울기:[[1.1921057]]\n"
          ]
        }
      ],
      "source": [
        "BP_skl.columns\n",
        "print(f'y절편 : {lr.intercept_}, 기울기:{lr.coef_}')"
      ]
    },
    {
      "cell_type": "code",
      "execution_count": null,
      "metadata": {
        "colab": {
          "base_uri": "https://localhost:8080/",
          "height": 906
        },
        "id": "aofh5TYOoOBX",
        "outputId": "cefa187f-fce2-4c5b-9b53-8d036e7aee7d"
      },
      "outputs": [
        {
          "output_type": "execute_result",
          "data": {
            "text/plain": [
              "[<matplotlib.lines.Line2D at 0x7f6173191fd0>]"
            ]
          },
          "metadata": {},
          "execution_count": 59
        },
        {
          "output_type": "display_data",
          "data": {
            "text/plain": [
              "<Figure size 1440x1152 with 1 Axes>"
            ],
            "image/png": "[encoded data removed]"
          },
          "metadata": {
            "needs_background": "light"
          }
        }
      ],
      "source": [
        "plt.xlabel('Mw')\n",
        "plt.ylabel('BP')\n",
        "plt.plot(x_train,y_train,'r.')\n",
        "plt.plot(x_train,lr.predict(x_train),color='g')"
      ]
    },
    {
      "cell_type": "markdown",
      "metadata": {
        "id": "4zOupQv2oOBX"
      },
      "source": [
        "-----"
      ]
    },
    {
      "cell_type": "markdown",
      "metadata": {
        "id": "Vocs7E3soOBX"
      },
      "source": [
        "# <Step3. 평가> : 예측 모델 평가하기"
      ]
    },
    {
      "cell_type": "markdown",
      "metadata": {
        "id": "ybqo3LHJoOBb"
      },
      "source": [
        "##### RMSE score"
      ]
    },
    {
      "cell_type": "code",
      "execution_count": null,
      "metadata": {
        "colab": {
          "base_uri": "https://localhost:8080/"
        },
        "id": "rzGHjc-VoOBc",
        "outputId": "290824ea-f0c4-44a4-8fc2-9d461d217829"
      },
      "outputs": [
        {
          "output_type": "stream",
          "name": "stdout",
          "text": [
            "29.415810001866273\n"
          ]
        }
      ],
      "source": [
        "# 회귀 분석 모델을 평가합니다.\n",
        "y_predictions = lr.predict(x_train)\n",
        "print(sqrt(mean_squared_error(y_train, y_predictions))) # test RMSE score를 출력합니다."
      ]
    },
    {
      "cell_type": "markdown",
      "metadata": {
        "id": "jhk4cdd7oOBd"
      },
      "source": [
        "-----"
      ]
    },
    {
      "cell_type": "markdown",
      "metadata": {
        "id": "1FHxfiuzvL-s"
      },
      "source": [
        "# <Step4. 다중선형회귀> 변수 만들기"
      ]
    },
    {
      "cell_type": "code",
      "source": [
        "train_poly = np.column_stack((x_train**2, x_train))"
      ],
      "metadata": {
        "id": "9M5e7csDvVE1"
      },
      "execution_count": null,
      "outputs": []
    },
    {
      "cell_type": "code",
      "source": [
        "print(train_poly.shape)"
      ],
      "metadata": {
        "colab": {
          "base_uri": "https://localhost:8080/"
        },
        "id": "ckmK5vJCvql5",
        "outputId": "a1ba1533-e7bf-4ab5-9fde-1e1ac0970082"
      },
      "execution_count": null,
      "outputs": [
        {
          "output_type": "stream",
          "name": "stdout",
          "text": [
            "(200, 2)\n"
          ]
        }
      ]
    },
    {
      "cell_type": "code",
      "source": [
        "lr = linear_model.LinearRegression()\n",
        "lr.fit(train_poly, y_train)\n",
        "\n",
        "print(lr.predict([[60**2,60]]))"
      ],
      "metadata": {
        "colab": {
          "base_uri": "https://localhost:8080/"
        },
        "id": "eFL8o_VXvw0U",
        "outputId": "519ee6c4-9e48-4f45-f796-db96708f94a3"
      },
      "execution_count": null,
      "outputs": [
        {
          "output_type": "stream",
          "name": "stdout",
          "text": [
            "[[400.75047819]]\n"
          ]
        }
      ]
    },
    {
      "cell_type": "code",
      "source": [
        "print(lr.coef_, lr.intercept_)"
      ],
      "metadata": {
        "colab": {
          "base_uri": "https://localhost:8080/"
        },
        "id": "eYZPV2PawPGM",
        "outputId": "60b2381e-69ed-45ca-d023-cc05930e331f"
      },
      "execution_count": null,
      "outputs": [
        {
          "output_type": "stream",
          "name": "stdout",
          "text": [
            "[[0.00225695 0.33442399]] [372.56003593]\n"
          ]
        }
      ]
    },
    {
      "cell_type": "code",
      "source": [
        "plt.plot(x_train, y_train,'k.')\n",
        "plt.scatter(60, 400, marker='^', color='y')\n",
        "\n",
        "point = np.arange(50, 400, 0.05)\n",
        "plt.plot(point, 0.00225695*point**2 + 0.33442399*point +372.56003593)\n",
        "\n",
        "plt.xlabel('Mw')\n",
        "plt.ylabel('BP')\n",
        "plt.show()"
      ],
      "metadata": {
        "colab": {
          "base_uri": "https://localhost:8080/",
          "height": 888
        },
        "id": "4xkssRcZwTeO",
        "outputId": "ccb246aa-3abf-4d75-9d0f-750e6e5bd547"
      },
      "execution_count": null,
      "outputs": [
        {
          "output_type": "display_data",
          "data": {
            "text/plain": [
              "<Figure size 1440x1152 with 1 Axes>"
            ],
            "image/png": "[encoded data removed]"
          },
          "metadata": {
            "needs_background": "light"
          }
        }
      ]
    },
    {
      "cell_type": "code",
      "source": [
        "# 회귀 분석 모델을 평가합니다.\n",
        "y_poly_predictions = lr.predict(train_poly)\n",
        "print(sqrt(mean_squared_error(y_train, y_poly_predictions))) # test RMSE score를 출력합니다."
      ],
      "metadata": {
        "colab": {
          "base_uri": "https://localhost:8080/"
        },
        "id": "IMBqkOA_1Euq",
        "outputId": "6aa466fc-162a-4801-d19a-ba32dcd8c07e"
      },
      "execution_count": null,
      "outputs": [
        {
          "output_type": "stream",
          "name": "stdout",
          "text": [
            "27.926977507412644\n"
          ]
        }
      ]
    }
  ],
  "metadata": {
    "kernelspec": {
      "display_name": "Python 3",
      "language": "python",
      "name": "python3"
    },
    "language_info": {
      "codemirror_mode": {
        "name": "ipython",
        "version": 3
      },
      "file_extension": ".py",
      "mimetype": "text/x-python",
      "name": "python",
      "nbconvert_exporter": "python",
      "pygments_lexer": "ipython3",
      "version": "3.7.6"
    },
    "toc": {
      "base_numbering": 1,
      "nav_menu": {},
      "number_sections": true,
      "sideBar": true,
      "skip_h1_title": false,
      "title_cell": "Table of Contents",
      "title_sidebar": "Contents",
      "toc_cell": false,
      "toc_position": {
        "height": "calc(100% - 180px)",
        "left": "10px",
        "top": "150px",
        "width": "384px"
      },
      "toc_section_display": true,
      "toc_window_display": true
    },
    "colab": {
      "name": "Mw_BP_sklearn.ipynb",
      "provenance": [],
      "include_colab_link": true
    }
  },
  "nbformat": 4,
  "nbformat_minor": 0
}
