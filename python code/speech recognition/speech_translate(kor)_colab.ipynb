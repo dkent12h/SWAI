{
  "nbformat": 4,
  "nbformat_minor": 0,
  "metadata": {
    "colab": {
      "name": "speech translate(kor)_colab.ipynb",
      "provenance": [],
      "authorship_tag": "ABX9TyOVfEMl5vsdhHJpUnZuDCRU",
      "include_colab_link": true
    },
    "kernelspec": {
      "name": "python3",
      "display_name": "Python 3"
    },
    "language_info": {
      "name": "python"
    }
  },
  "cells": [
    {
      "cell_type": "markdown",
      "metadata": {
        "id": "view-in-github",
        "colab_type": "text"
      },
      "source": [
        "<a href=\"https://colab.research.google.com/github/PILKWANG/KangLab/blob/master/python%20code/speech%20recognition/speech_translate(kor)_colab.ipynb\" target=\"_parent\"><img src=\"https://colab.research.google.com/assets/colab-badge.svg\" alt=\"Open In Colab\"/></a>"
      ]
    },
    {
      "cell_type": "code",
      "source": [
        "!pip install speechrecognition"
      ],
      "metadata": {
        "colab": {
          "base_uri": "https://localhost:8080/"
        },
        "id": "ZaOI0LoSsTZL",
        "outputId": "7060a8c2-6448-425a-c0a4-0fee4908c410"
      },
      "execution_count": 3,
      "outputs": [
        {
          "output_type": "stream",
          "name": "stdout",
          "text": [
            "Collecting speechrecognition\n",
            "  Downloading SpeechRecognition-3.8.1-py2.py3-none-any.whl (32.8 MB)\n",
            "\u001b[K     |████████████████████████████████| 32.8 MB 1.4 MB/s \n",
            "\u001b[?25hInstalling collected packages: speechrecognition\n",
            "Successfully installed speechrecognition-3.8.1\n"
          ]
        }
      ]
    },
    {
      "cell_type": "code",
      "execution_count": 8,
      "metadata": {
        "colab": {
          "base_uri": "https://localhost:8080/"
        },
        "id": "Xitfak_esOZo",
        "outputId": "d13b0088-efff-424e-c118-4252d0e69355"
      },
      "outputs": [
        {
          "output_type": "stream",
          "name": "stdout",
          "text": [
            "{'alternative': [{'confidence': 0.85432786,\n",
            "                  'transcript': '토요일인 15일 기온이 평년 수준으로 회복되면서 계속되던 추위가 추첨하겠습니다'},\n",
            "                 {'transcript': '토요일인 15일 기온이 평년 수준으로 회복되면서 계속되는 추위가 추첨하겠습니다'},\n",
            "                 {'transcript': '수요일은 15일 기온이 평년 수준으로 회복되면서 계속되던 추위가 추첨하겠습니다'},\n",
            "                 {'transcript': '수요일은 15일 기온이 평년 수준으로 회복되면서 계속되는 추위가 추첨하겠습니다'},\n",
            "                 {'transcript': '토요일은 15일 기온이 평년 수준으로 회복되면서 계속되던 추위가 추첨하겠습니다'}],\n",
            " 'final': True}\n"
          ]
        }
      ],
      "source": [
        "import speech_recognition as sr\n",
        "\n",
        "from os import path\n",
        "\n",
        "from pprint import pprint\n",
        "\n",
        "audio_file = path.join(path.dirname(path.realpath(\"sample_data/__file__\")), \"knue.wav\")\n",
        "\n",
        "r = sr.Recognizer()\n",
        "\n",
        "with sr.AudioFile(audio_file) as source :\n",
        "    audio = r.record(source)\n",
        "\n",
        "try:\n",
        "    text = r.recognize_google(audio, show_all=True, language= 'ko-KR')\n",
        "    pprint (text)\n",
        "\n",
        "except:\n",
        "    print (\"Didn't work.\")"
      ]
    }
  ]
}
