{
  "cells": [
    {
      "cell_type": "markdown",
      "metadata": {
        "id": "view-in-github",
        "colab_type": "text"
      },
      "source": [
        "<a href=\"https://colab.research.google.com/github/PILKWANG/KangLab/blob/master/python%20code/image%20recognition/teachable_machine_Colab.ipynb\" target=\"_parent\"><img src=\"https://colab.research.google.com/assets/colab-badge.svg\" alt=\"Open In Colab\"/></a>"
      ]
    },
    {
      "cell_type": "markdown",
      "source": [
        "## tensorflow 버전 확인"
      ],
      "metadata": {
        "id": "sCPIbkRa-3rS"
      }
    },
    {
      "cell_type": "code",
      "execution_count": null,
      "metadata": {
        "colab": {
          "base_uri": "https://localhost:8080/",
          "height": 36
        },
        "id": "OShscMK48OqA",
        "outputId": "81890c5d-abf6-4115-de38-441a64afbaad"
      },
      "outputs": [
        {
          "output_type": "execute_result",
          "data": {
            "application/vnd.google.colaboratory.intrinsic+json": {
              "type": "string"
            },
            "text/plain": [
              "'2.7.0'"
            ]
          },
          "metadata": {},
          "execution_count": 1
        }
      ],
      "source": [
        "import tensorflow as tf\n",
        "tf.__version__"
      ]
    },
    {
      "cell_type": "markdown",
      "source": [
        "## 웹캠으로 캡처하기(colab에서는 실행 안됨)"
      ],
      "metadata": {
        "id": "2ZXK_6Ja--52"
      }
    },
    {
      "cell_type": "code",
      "execution_count": 2,
      "metadata": {
        "colab": {
          "base_uri": "https://localhost:8080/"
        },
        "id": "RB4SIo1m8OqF",
        "outputId": "a022ef65-567b-44a5-d4ce-f4d1eb2a9687"
      },
      "outputs": [
        {
          "output_type": "stream",
          "name": "stdout",
          "text": [
            "cant open the cam (0)\n"
          ]
        }
      ],
      "source": [
        "import cv2\n",
        "\n",
        "CAM_ID = 0\n",
        "def capture(camid = CAM_ID):\n",
        "    cam = cv2.VideoCapture(camid)\n",
        "    if cam.isOpened() == False:\n",
        "        print ('cant open the cam (%d)' % camid)\n",
        "        return None\n",
        "\n",
        "    ret, frame = cam.read()\n",
        "    if frame is None:\n",
        "        print ('frame is not exist')\n",
        "        return None\n",
        "    \n",
        "   \n",
        "    cv2.imwrite('test_photo2.jpg',frame, params=[cv2.IMWRITE_JPEG_QUALITY,100])\n",
        "    cam.release()\n",
        "\n",
        "if __name__ == '__main__':\n",
        "    capture()"
      ]
    },
    {
      "cell_type": "markdown",
      "source": [
        "## 티처블 머신으로 학습한 모델로 이미지 예측하기"
      ],
      "metadata": {
        "id": "yR4oj79h_IxQ"
      }
    },
    {
      "cell_type": "code",
      "source": [
        "import tensorflow.keras\n",
        "from PIL import Image, ImageOps\n",
        "import numpy as np\n",
        "\n",
        "# Disable scientific notation for clarity\n",
        "np.set_printoptions(suppress=True)\n",
        "\n",
        "# Load the model\n",
        "model = tensorflow.keras.models.load_model('sample_data/keras_model.h5',compile=False)\n",
        "\n",
        "# Create the array of the right shape to feed into the keras model\n",
        "# The 'length' or number of images you can put into the array is\n",
        "# determined by the first position in the shape tuple, in this case 1.\n",
        "data = np.ndarray(shape=(1, 224, 224, 3), dtype=np.float32)\n",
        "#print(data)"
      ],
      "metadata": {
        "id": "TesXE-OOBh16"
      },
      "execution_count": 3,
      "outputs": []
    },
    {
      "cell_type": "code",
      "execution_count": 4,
      "metadata": {
        "colab": {
          "base_uri": "https://localhost:8080/"
        },
        "id": "L8FvDIUK8OqH",
        "outputId": "8bcdd593-a977-4005-c293-853821e8669c"
      },
      "outputs": [
        {
          "output_type": "stream",
          "name": "stdout",
          "text": [
            "[[0.99656785 0.00343219]]\n"
          ]
        }
      ],
      "source": [
        "# Replace this with the path to your image\n",
        "image = Image.open('sample_data/test_photo2.jpg')\n",
        "\n",
        "#resize the image to a 224x224 with the same strategy as in TM2:\n",
        "#resizing the image to be at least 224x224 and then cropping from the center\n",
        "size = (224, 224)\n",
        "image = ImageOps.fit(image, size, Image.ANTIALIAS)\n",
        "\n",
        "#turn the image into a numpy array\n",
        "image_array = np.asarray(image)\n",
        "\n",
        "# display the resized image\n",
        "image.show()\n",
        "\n",
        "# Normalize the image\n",
        "normalized_image_array = (image_array.astype(np.float32) / 127.0) - 1\n",
        "\n",
        "# Load the image into the array\n",
        "data[0] = normalized_image_array\n",
        "\n",
        "# run the inference\n",
        "prediction = model.predict(data)\n",
        "print(prediction)"
      ]
    }
  ],
  "metadata": {
    "kernelspec": {
      "display_name": "Python 3",
      "language": "python",
      "name": "python3"
    },
    "language_info": {
      "codemirror_mode": {
        "name": "ipython",
        "version": 3
      },
      "file_extension": ".py",
      "mimetype": "text/x-python",
      "name": "python",
      "nbconvert_exporter": "python",
      "pygments_lexer": "ipython3",
      "version": "3.7.6"
    },
    "colab": {
      "name": "teachable machine Code.ipynb",
      "provenance": [],
      "include_colab_link": true
    },
    "accelerator": "GPU"
  },
  "nbformat": 4,
  "nbformat_minor": 0
}
