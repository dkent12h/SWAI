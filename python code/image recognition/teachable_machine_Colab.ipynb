Open In Colab
tensorflow 버전 확인
import tensorflow as tf
tf.__version__
'2.7.0'
웹캠으로 캡처하기(colab에서는 실행 안됨)
import cv2

CAM_ID = 0
def capture(camid = CAM_ID):
    cam = cv2.VideoCapture(camid)
    if cam.isOpened() == False:
        print ('cant open the cam (%d)' % camid)
        return None

    ret, frame = cam.read()
    if frame is None:
        print ('frame is not exist')
        return None
    
   
    cv2.imwrite('test_photo2.jpg',frame, params=[cv2.IMWRITE_JPEG_QUALITY,100])
    cam.release()

if __name__ == '__main__':
    capture()
cant open the cam (0)
티처블 머신으로 학습한 모델로 이미지 예측하기
import tensorflow.keras
from PIL import Image, ImageOps
import numpy as np

# Disable scientific notation for clarity
np.set_printoptions(suppress=True)

# Load the model
model = tensorflow.keras.models.load_model('sample_data/keras_model.h5',compile=False)

# Create the array of the right shape to feed into the keras model
# The 'length' or number of images you can put into the array is
# determined by the first position in the shape tuple, in this case 1.
data = np.ndarray(shape=(1, 224, 224, 3), dtype=np.float32)
#print(data)
# Replace this with the path to your image
image = Image.open('sample_data/test_photo2.jpg')

#resize the image to a 224x224 with the same strategy as in TM2:
#resizing the image to be at least 224x224 and then cropping from the center
size = (224, 224)
image = ImageOps.fit(image, size, Image.ANTIALIAS)

#turn the image into a numpy array
image_array = np.asarray(image)

# display the resized image
image.show()

# Normalize the image
normalized_image_array = (image_array.astype(np.float32) / 127.0) - 1

# Load the image into the array
data[0] = normalized_image_array

# run the inference
prediction = model.predict(data)
print(prediction)
[[0.99656785 0.00343219]]
